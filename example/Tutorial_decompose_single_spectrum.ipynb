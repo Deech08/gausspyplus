{
 "cells": [
  {
   "cell_type": "markdown",
   "metadata": {},
   "source": [
    "# Tutorial - Decomposition of a single spectrum\n",
    "\n",
    "Here we show how to prepare and decompose a single spectrum. This can be instructive in how parameter settings influence and impact the decomposition and can be helpful in optimizing the settings."
   ]
  },
  {
   "cell_type": "code",
   "execution_count": null,
   "metadata": {},
   "outputs": [],
   "source": [
    "import os\n",
    "\n",
    "%matplotlib inline\n",
    "import matplotlib.pyplot as plt\n",
    "\n",
    "from gausspyplus.prepare import GaussPyPrepare\n",
    "from gausspyplus.decompose import GaussPyDecompose"
   ]
  },
  {
   "cell_type": "code",
   "execution_count": null,
   "metadata": {},
   "outputs": [],
   "source": [
    "prepare = GaussPyPrepare()\n",
    "prepare.path_to_file = os.path.join(\n",
    "    '..', 'gausspyplus', 'data', 'grs-test_field.fits')\n",
    "prepare.p_limit = 0.02\n",
    "prepare.pad_channels = 5\n",
    "prepare.signal_mask = True\n",
    "prepare.min_channels = 100\n",
    "prepare.mask_out_ranges = []\n",
    "prepare.snr = 3.\n",
    "prepare.significance = 5.\n",
    "prepare.snr_noise_spike = 5.\n",
    "data_location = (31, 40)  # given in (ypix, xpix)\n",
    "prepared_spectrum = prepare.return_single_prepared_spectrum(data_location)\n",
    "\n",
    "decompose = GaussPyDecompose()\n",
    "decompose.two_phase_decomposition = True\n",
    "decompose.alpha1 = 2.58\n",
    "decompose.alpha2 = 5.14\n",
    "decompose.improve_fitting = True\n",
    "decompose.exclude_means_outside_channel_range = True\n",
    "decompose.min_fwhm = 1.\n",
    "decompose.max_fwhm = None\n",
    "decompose.snr = 3.\n",
    "decompose.snr_fit = None\n",
    "decompose.significance = 5.\n",
    "decompose.snr_negative = None\n",
    "decompose.min_pvalue = 0.01\n",
    "decompose.max_amp_factor = 1.1\n",
    "decompose.refit_neg_res_peak = True\n",
    "decompose.refit_broad = True\n",
    "decompose.refit_blended = True\n",
    "decompose.separation_factor = 0.8493218\n",
    "decompose.fwhm_factor = 2.\n",
    "decompose.single_prepared_spectrum = prepared_spectrum\n",
    "decomposed_test = decompose.decompose()\n",
    "                             "
   ]
  },
  {
   "cell_type": "code",
   "execution_count": null,
   "metadata": {},
   "outputs": [],
   "source": [
    "from pprint import pprint\n",
    "pprint(decomposed_test)"
   ]
  },
  {
   "cell_type": "code",
   "execution_count": null,
   "metadata": {},
   "outputs": [],
   "source": []
  }
 ],
 "metadata": {
  "kernelspec": {
   "display_name": "Python [default]",
   "language": "python",
   "name": "python3"
  },
  "language_info": {
   "codemirror_mode": {
    "name": "ipython",
    "version": 3
   },
   "file_extension": ".py",
   "mimetype": "text/x-python",
   "name": "python",
   "nbconvert_exporter": "python",
   "pygments_lexer": "ipython3",
   "version": "3.5.1"
  }
 },
 "nbformat": 4,
 "nbformat_minor": 2
}
