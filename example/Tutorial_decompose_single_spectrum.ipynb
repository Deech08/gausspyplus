{
 "cells": [
  {
   "cell_type": "markdown",
   "metadata": {},
   "source": [
    "# Tutorial - Decomposition of a single spectrum\n",
    "\n",
    "Here we show how to prepare and decompose a single spectrum. This can be instructive in how parameter settings influence and impact the decomposition and can be helpful in optimizing the settings."
   ]
  },
  {
   "cell_type": "code",
   "execution_count": null,
   "metadata": {},
   "outputs": [],
   "source": [
    "import os\n",
    "\n",
    "%matplotlib inline\n",
    "import matplotlib.pyplot as plt\n",
    "\n",
    "from gausspyplus.prepare import GaussPyPrepare\n",
    "from gausspyplus.decompose import GaussPyDecompose"
   ]
  },
  {
   "cell_type": "code",
   "execution_count": null,
   "metadata": {},
   "outputs": [],
   "source": [
    "prepare = GaussPyPrepare()\n",
    "prepare.path_to_file = os.path.join(\n",
    "    '..', 'gausspyplus', 'data', 'grs-test_field.fits')\n",
    "prepare.p_limit = 0.02\n",
    "prepare.pad_channels = 5\n",
    "prepare.signal_mask = True\n",
    "prepare.min_channels = 100\n",
    "prepare.mask_out_ranges = []\n",
    "prepare.snr = 3.\n",
    "prepare.significance = 5.\n",
    "prepare.snr_noise_spike = 5.\n",
    "data_location = (31, 40)  # given in (ypix, xpix)\n",
    "prepared_spectrum = prepare.return_single_prepared_spectrum(data_location)\n",
    "\n",
    "decompose = GaussPyDecompose()\n",
    "decompose.two_phase_decomposition = True\n",
    "decompose.alpha1 = 2.58\n",
    "decompose.alpha2 = 5.14\n",
    "\n",
    "#  GaussPy+ parameters (only take effect if 'improve_fitting' is set to True)\n",
    "decompose.improve_fitting = True\n",
    "decompose.exclude_means_outside_channel_range = True\n",
    "decompose.min_fwhm = 1.\n",
    "decompose.max_fwhm = None\n",
    "decompose.snr = 3.\n",
    "decompose.snr_fit = None\n",
    "decompose.significance = 5.\n",
    "decompose.snr_negative = None\n",
    "decompose.min_pvalue = 0.01\n",
    "decompose.max_amp_factor = 1.1\n",
    "decompose.refit_neg_res_peak = True\n",
    "decompose.refit_broad = True\n",
    "decompose.refit_blended = True\n",
    "decompose.separation_factor = 0.8493218\n",
    "decompose.fwhm_factor = 2.\n",
    "decompose.single_prepared_spectrum = prepared_spectrum\n",
    "decomposed_test = decompose.decompose()\n",
    "                             "
   ]
  },
  {
   "cell_type": "markdown",
   "metadata": {},
   "source": [
    "Running the previous cell printed some decomposition diagnostics and produced a multi-panel figure with the following four figures:\n",
    "\n",
    "- **upper left panel**: This figure shows how GaussPy determines the initial guesses for the Gaussian fit parameters in its first decomposition phase. The original input spectrum is shown in black solid lines and the S/N threshold for the original spectrum (``snr`` parameter) is shown with the horizontal dashed black line. The red line indicates the second derivative of the spectrum that was obtained after smoothing the original spectrum with the $\\alpha_{1}$ (``alpha1``) parameter and the red dashed horizontal lines show the corresponding S/N threshold for the second derivative. Initial guesses for the Gaussian fit parameters are shown in green and are determined by peaks in the original spectrum and second derivative of the smoothed spectrum.\n",
    "\n",
    "- **upper right panel**: This figure shows the intermediate fit results (blue line) obtained with the initial guesses for the Gaussian fit parameters obtained in the first decomposition phase. Note that this step is not performed if the ``two_phase_decomposition`` parameter is set to ``False``.\n",
    "\n",
    "- **lower left panel**: This figure shows the second decomposition phase of GaussPy, in which it searches for new peaks in the residual from the intermediate fit. This phase proceeds in a similar way to the first phase, with the difference that now the $\\alpha_{2}$ (``alpha2``) parameter is used to smooth the residual before the derivatives are computed. Note that this step is not performed if the ``two_phase_decomposition`` parameter is set to ``False``.\n",
    "\n",
    "- **lower right panel**: This figure shows the final fit results of GaussPy (orange lines). If the ``improve_fitting`` parameter is set to ``True``, the decomposition results correspond to the outcome of the improved fitting routine of GaussPy+, which aims to further improve the final fitting results of GaussPy. Users can set the ``improve_fitting`` parameter to ``True`` or ``False`` to check the effect of the improved fitting routine of GaussPy+. Note that the fit results of GaussPy+ correspond to the stage before the spatially coherent refitting phases, so decomposition results can still change later on based on neighboring fit results."
   ]
  },
  {
   "cell_type": "markdown",
   "metadata": {},
   "source": [
    "### Decomposition results\n",
    "\n",
    "In the preparation and decomposition steps we obtain two dictionaries. Lets first take a look at the contents of the dictionary created in the preparation step:"
   ]
  },
  {
   "cell_type": "code",
   "execution_count": null,
   "metadata": {},
   "outputs": [],
   "source": [
    "prepared_spectrum.keys()"
   ]
  },
  {
   "cell_type": "markdown",
   "metadata": {},
   "source": [
    "This dictionary contains the following keys:\n",
    "\n",
    "- **data_list**: A list containing information about the intensity values of the spectra\n",
    "\n",
    "- **x_values**: A list containing information about the number of spectral channels per spectrum\n",
    "\n",
    "- **error**: Information about the rms-error of the spectra\n",
    "\n",
    "- **index**: Index of the spectrum in the dictionary (identical to the **index_fit** keyword in the dictionary containing the decomposition results)\n",
    "\n",
    "- **location**: Location of the spectrum in the spectral cube; given as (Y position, X position)\n",
    "\n",
    "- **header**: FITS header of the spectral cube\n",
    "\n",
    "- **nan_mask**: Information about NaN values contained in the spectral cube\n",
    "\n",
    "- **signal_ranges**: Regions in the spectrum determined as containing signal peaks. Goodness-of-fit criteria (such as reduced chi-square values and the AICc parameter use only spectral channels contained in these regions)\n",
    "\n",
    "- **noise_spike_ranges**: Regions in the spectrum determined as containing negative noise spikes. These regions are masked out for goodness-of-fit calculations."
   ]
  },
  {
   "cell_type": "markdown",
   "metadata": {},
   "source": [
    "Next, lets take a look of the dictionary containing the decomposition results:"
   ]
  },
  {
   "cell_type": "code",
   "execution_count": null,
   "metadata": {},
   "outputs": [],
   "source": [
    "from pprint import pprint\n",
    "pprint(decomposed_test)"
   ]
  },
  {
   "cell_type": "markdown",
   "metadata": {},
   "source": [
    "This dictionary contains the following keys:\n",
    "\n",
    "- **index_fit**: Index in the dictionary (identical to the 'index' keyword in the dictionary containing the decomposition results)\n",
    "\n",
    "- **amplitudes_fit**, **fwhms_fit**, **means_fit**: Lists containing the fit parameters of the N Gaussian components of the final fit solution in the form of [amplitude_1, amplitude_2, ..., amplitude_N], [fwhm_value_1, fwhm_value_2, ..., fwhm_value_N], [mean_position_value_1, mean_position_value_2, ..., mean_position_value_N]\n",
    "\n",
    "- **amplitudes_fit_err**, **fwhms_fit_err**, **means_fit_err**: Lists containing the corresponding errors of the fit parameters\n",
    "\n",
    "- **best_fit_rchi2**: List of the reduced chi-square values of the best fit solutions\n",
    "\n",
    "- **best_fit_aicc**: List of the values of the corrected Akaike information criterion for the best fit solutions\n",
    "\n",
    "- **pvalue**: List of p-values obtained from the normality tests for the normalised residuals\n",
    "\n",
    "- **amplitudes_initial**, **fwhms_initial**, **means_initial**: Lists containing the fit parameters of the initial guesses for the components (i.e., all components identified in the upper and lower left panels in the Figure above)\n",
    "\n",
    "- **N_components**: List containing the number of fit components of the best fit solutions\n",
    "\n",
    "- **N_blended**: List containing the info about the number of blended components\n",
    "\n",
    "- **N_neg_res_peak**: List containing the info about the number of negative residual peaks introduced by the fit\n",
    "\n",
    "- **log_gplus**: List containing logs of all successful refits of the spectrum in the improved fitting routine of GaussPy+:\n",
    "    - 1: new fit component added from search of positive peaks in the residual\n",
    "    - 2: refit of spectrum due to the presence of negative residual peak(s) in the residual\n",
    "    - 3: refit of the spectrum due to the presence of broad fit component(s)\n",
    "    - 4: refit of the spectrum due to the presence of blended fit components\n",
    "\n",
    "- **quality_control**: List containing logs of fit components by in-built quality criteria:\n",
    "    - 0: FWHM value of component exceeded the ``max_fwhm`` parameter\n",
    "    - 1: FWHM value of component was smaller than the ``min_fwhm`` parameter\n",
    "    - 2: Amplitude value of component did not satisfy the required minimum S/N ratio (default value is ``snr``/2)\n",
    "    - 3: Significance value of the fit components does not satisfy the required minimum value given by the ``significance``parameter\n",
    "    - 4: Mean position of the fit component was outside the channel range\n",
    "    - 5: Mean position of the fit component was outside the determined **signal_ranges** **AND** the fit component did not satisfy the significance criterion)"
   ]
  },
  {
   "cell_type": "code",
   "execution_count": null,
   "metadata": {},
   "outputs": [],
   "source": []
  }
 ],
 "metadata": {
  "kernelspec": {
   "display_name": "Python [default]",
   "language": "python",
   "name": "python3"
  },
  "language_info": {
   "codemirror_mode": {
    "name": "ipython",
    "version": 3
   },
   "file_extension": ".py",
   "mimetype": "text/x-python",
   "name": "python",
   "nbconvert_exporter": "python",
   "pygments_lexer": "ipython3",
   "version": "3.5.1"
  }
 },
 "nbformat": 4,
 "nbformat_minor": 2
}
